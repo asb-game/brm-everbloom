{
 "cells": [
  {
   "cell_type": "code",
   "execution_count": 2,
   "metadata": {},
   "outputs": [
    {
     "name": "stdout",
     "output_type": "stream",
     "text": [
      "Defaulting to user installation because normal site-packages is not writeable\n",
      "Requirement already satisfied: openai-whisper in /Users/jarell/Library/Python/3.9/lib/python/site-packages (20240930)\n",
      "Requirement already satisfied: torch in /Users/jarell/Library/Python/3.9/lib/python/site-packages (from openai-whisper) (2.5.0)\n",
      "Requirement already satisfied: numba in /Users/jarell/Library/Python/3.9/lib/python/site-packages (from openai-whisper) (0.60.0)\n",
      "Requirement already satisfied: more-itertools in /Users/jarell/Library/Python/3.9/lib/python/site-packages (from openai-whisper) (10.5.0)\n",
      "Requirement already satisfied: tiktoken in /Users/jarell/Library/Python/3.9/lib/python/site-packages (from openai-whisper) (0.8.0)\n",
      "Requirement already satisfied: tqdm in /Users/jarell/Library/Python/3.9/lib/python/site-packages (from openai-whisper) (4.66.5)\n",
      "Requirement already satisfied: numpy in /Users/jarell/Library/Python/3.9/lib/python/site-packages (from openai-whisper) (2.0.2)\n",
      "Requirement already satisfied: llvmlite<0.44,>=0.43.0dev0 in /Users/jarell/Library/Python/3.9/lib/python/site-packages (from numba->openai-whisper) (0.43.0)\n",
      "Requirement already satisfied: regex>=2022.1.18 in /Users/jarell/Library/Python/3.9/lib/python/site-packages (from tiktoken->openai-whisper) (2024.9.11)\n",
      "Requirement already satisfied: requests>=2.26.0 in /Users/jarell/Library/Python/3.9/lib/python/site-packages (from tiktoken->openai-whisper) (2.32.3)\n",
      "Requirement already satisfied: urllib3<3,>=1.21.1 in /Users/jarell/Library/Python/3.9/lib/python/site-packages (from requests>=2.26.0->tiktoken->openai-whisper) (2.2.3)\n",
      "Requirement already satisfied: idna<4,>=2.5 in /Users/jarell/Library/Python/3.9/lib/python/site-packages (from requests>=2.26.0->tiktoken->openai-whisper) (3.8)\n",
      "Requirement already satisfied: certifi>=2017.4.17 in /Users/jarell/Library/Python/3.9/lib/python/site-packages (from requests>=2.26.0->tiktoken->openai-whisper) (2024.8.30)\n",
      "Requirement already satisfied: charset-normalizer<4,>=2 in /Users/jarell/Library/Python/3.9/lib/python/site-packages (from requests>=2.26.0->tiktoken->openai-whisper) (3.4.0)\n",
      "Requirement already satisfied: typing-extensions>=4.8.0 in /Users/jarell/Library/Python/3.9/lib/python/site-packages (from torch->openai-whisper) (4.12.2)\n",
      "Requirement already satisfied: networkx in /Users/jarell/Library/Python/3.9/lib/python/site-packages (from torch->openai-whisper) (3.2.1)\n",
      "Requirement already satisfied: sympy==1.13.1 in /Users/jarell/Library/Python/3.9/lib/python/site-packages (from torch->openai-whisper) (1.13.1)\n",
      "Requirement already satisfied: filelock in /Users/jarell/Library/Python/3.9/lib/python/site-packages (from torch->openai-whisper) (3.16.1)\n",
      "Requirement already satisfied: jinja2 in /Users/jarell/Library/Python/3.9/lib/python/site-packages (from torch->openai-whisper) (3.1.4)\n",
      "Requirement already satisfied: fsspec in /Users/jarell/Library/Python/3.9/lib/python/site-packages (from torch->openai-whisper) (2024.10.0)\n",
      "Requirement already satisfied: mpmath<1.4,>=1.1.0 in /Users/jarell/Library/Python/3.9/lib/python/site-packages (from sympy==1.13.1->torch->openai-whisper) (1.3.0)\n",
      "Requirement already satisfied: MarkupSafe>=2.0 in /Users/jarell/Library/Python/3.9/lib/python/site-packages (from jinja2->torch->openai-whisper) (3.0.2)\n",
      "\u001b[33mWARNING: You are using pip version 21.2.4; however, version 24.3.1 is available.\n",
      "You should consider upgrading via the '/Library/Developer/CommandLineTools/usr/bin/python3 -m pip install --upgrade pip' command.\u001b[0m\n",
      "Note: you may need to restart the kernel to use updated packages.\n"
     ]
    }
   ],
   "source": [
    "pip install -U openai-whisper"
   ]
  },
  {
   "cell_type": "code",
   "execution_count": 2,
   "metadata": {},
   "outputs": [
    {
     "name": "stderr",
     "output_type": "stream",
     "text": [
      "/Users/jarell/Library/Python/3.9/lib/python/site-packages/whisper/__init__.py:150: FutureWarning: You are using `torch.load` with `weights_only=False` (the current default value), which uses the default pickle module implicitly. It is possible to construct malicious pickle data which will execute arbitrary code during unpickling (See https://github.com/pytorch/pytorch/blob/main/SECURITY.md#untrusted-models for more details). In a future release, the default value for `weights_only` will be flipped to `True`. This limits the functions that could be executed during unpickling. Arbitrary objects will no longer be allowed to be loaded via this mode unless they are explicitly allowlisted by the user via `torch.serialization.add_safe_globals`. We recommend you start setting `weights_only=True` for any use case where you don't have full control of the loaded file. Please open an issue on GitHub for any issues related to this experimental feature.\n",
      "  checkpoint = torch.load(fp, map_location=device)\n",
      "/Users/jarell/Library/Python/3.9/lib/python/site-packages/whisper/transcribe.py:126: UserWarning: FP16 is not supported on CPU; using FP32 instead\n",
      "  warnings.warn(\"FP16 is not supported on CPU; using FP32 instead\")\n"
     ]
    }
   ],
   "source": [
    "import whisper\n",
    "\n",
    "model = whisper.load_model(\"base\")\n",
    "result = model.transcribe(\"img/4-Conceptual model.wav\")\n",
    "\n",
    "# Create .vtt content\n",
    "vtt_content = \"WEBVTT\\n\\n\"\n",
    "for segment in result[\"segments\"]:\n",
    "    start = segment[\"start\"]\n",
    "    end = segment[\"end\"]\n",
    "    start_time = f\"{int(start // 3600):02}:{int((start % 3600) // 60):02}:{int(start % 60):02}.{int((start * 1000) % 1000):03}\"\n",
    "    end_time = f\"{int(end // 3600):02}:{int((end % 3600) // 60):02}:{int(end % 60):02}.{int((end * 1000) % 1000):03}\"\n",
    "    vtt_content += f\"{segment['id']}\\n{start_time} --> {end_time}\\n{segment['text']}\\n\\n\"\n",
    "\n",
    "# Save as .vtt\n",
    "with open(\"img/4-Conceptual model.vtt\", \"w\") as file:\n",
    "    file.write(vtt_content)\n"
   ]
  }
 ],
 "metadata": {
  "kernelspec": {
   "display_name": "Python 3",
   "language": "python",
   "name": "python3"
  },
  "language_info": {
   "codemirror_mode": {
    "name": "ipython",
    "version": 3
   },
   "file_extension": ".py",
   "mimetype": "text/x-python",
   "name": "python",
   "nbconvert_exporter": "python",
   "pygments_lexer": "ipython3",
   "version": "3.9.6"
  }
 },
 "nbformat": 4,
 "nbformat_minor": 2
}
